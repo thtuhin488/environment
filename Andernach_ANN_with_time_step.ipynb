{
  "nbformat": 4,
  "nbformat_minor": 0,
  "metadata": {
    "colab": {
      "provenance": [],
      "authorship_tag": "ABX9TyO71Lx2rO1a5bRjgdchtHuk",
      "include_colab_link": true
    },
    "kernelspec": {
      "name": "python3",
      "display_name": "Python 3"
    },
    "language_info": {
      "name": "python"
    }
  },
  "cells": [
    {
      "cell_type": "markdown",
      "metadata": {
        "id": "view-in-github",
        "colab_type": "text"
      },
      "source": [
        "<a href=\"https://colab.research.google.com/github/thtuhin488/environment/blob/main/Andernach_ANN_with_time_step.ipynb\" target=\"_parent\"><img src=\"https://colab.research.google.com/assets/colab-badge.svg\" alt=\"Open In Colab\"/></a>"
      ]
    },
    {
      "cell_type": "code",
      "execution_count": null,
      "metadata": {
        "id": "z0mMUof8lGld"
      },
      "outputs": [],
      "source": [
        "import numpy as np\n",
        "import numpy as np\n",
        "import pandas as pd\n",
        "import matplotlib.pyplot as plt\n",
        "import math\n",
        "from keras.models import Sequential\n",
        "from keras.layers import Dense\n",
        "from sklearn.preprocessing import MinMaxScaler\n",
        "from sklearn.metrics import mean_squared_error\n",
        "import tensorflow as tf\n",
        "import sklearn as sklearn\n",
        "import os\n",
        "\n",
        "excel_file = '/sheet 1.xlsx'\n",
        "# excel_file = 'Y:/Home/tuhin/New folder/sheet 1.xls'\n",
        "Dt = pd.read_excel(excel_file,usecols=['Date'])\n",
        "D = pd.read_excel(excel_file,usecols=['Discharge'])\n"
      ]
    },
    {
      "cell_type": "code",
      "source": [
        "dataset = D.values\n",
        "dataset = dataset.astype('float32') "
      ],
      "metadata": {
        "id": "XV4CWBNjpI75"
      },
      "execution_count": 12,
      "outputs": []
    },
    {
      "cell_type": "code",
      "source": [
        "scaler = MinMaxScaler(feature_range=(0, 1)) #Also try QuantileTransformer\n",
        "dataset = scaler.fit_transform(dataset)\n",
        "\n",
        "train_size = int(len(dataset) * 0.66)\n",
        "test_size = len(dataset) - train_size\n",
        "train, test = dataset[0:train_size,:], dataset[train_size:len(dataset),:]"
      ],
      "metadata": {
        "id": "EXBfDby7pbW3"
      },
      "execution_count": 13,
      "outputs": []
    },
    {
      "cell_type": "code",
      "source": [
        "def to_sequences(dataset, seq_size=1):\n",
        "    x = []\n",
        "    y = []\n",
        "\n",
        "    for i in range(0, len(dataset) - seq_size - 1, 3):\n",
        "        # print(i)\n",
        "        window = dataset[i:(i + seq_size), 0]\n",
        "        x.append(window)\n",
        "        y.append(dataset[i + seq_size, 0])\n",
        "\n",
        "    return np.array(x), np.array(y)\n"
      ],
      "metadata": {
        "id": "l9QwEwGArHXn"
      },
      "execution_count": 15,
      "outputs": []
    },
    {
      "cell_type": "code",
      "source": [
        "\n",
        "seq_size = 5 # Number of time steps to look back\n",
        "\n",
        "# Larger sequences (look further back) may improve forecasting.\n",
        "trainX, trainY = to_sequences(train, seq_size)\n",
        "testX, testY = to_sequences(test, seq_size)"
      ],
      "metadata": {
        "id": "CpShaT-Psrsi"
      },
      "execution_count": 16,
      "outputs": []
    },
    {
      "cell_type": "code",
      "source": [
        "\n",
        "\n",
        "print(\"Shape of training set: {}\".format(trainX.shape))\n",
        "print(\"Shape of test set: {}\".format(testX.shape))\n",
        "\n",
        "#Input dimensions are... (N x seq_size)\n",
        "print('Build deep model...')\n",
        "# create and fit dense model\n",
        "model = Sequential()\n",
        "model.add(Dense(64, input_dim=seq_size, activation='relu'))\n",
        "model.add(Dense(32 , activation='relu'))\n",
        "model.add(Dense(32 , activation='relu'))\n",
        "model.add(Dense(1))\n",
        "model.compile(loss='mean_squared_error', optimizer='adam', metrics = ['acc'])\n",
        "print(model.summary())\n",
        "\n",
        "#model.fit(trainX, trainY, epochs=200, batch_size=2, verbose=2)\n",
        "\n",
        "model.fit(trainX, trainY, validation_data=(testX, testY),\n",
        "          verbose=2, epochs=100)\n",
        "# make predictions\n",
        "trainPredict1 = model.predict(trainX)\n",
        "testPredict1 = model.predict(testX)\n",
        "\n",
        "predictions = model.predict(testX[:5])\n",
        "print(\"Predicted values are: \", predictions)\n",
        "print(\"Real values are: \", test[:5])"
      ],
      "metadata": {
        "id": "E-D6TNAOs4pr"
      },
      "execution_count": null,
      "outputs": []
    },
    {
      "cell_type": "code",
      "source": [
        "\n",
        "trainPredict = scaler.inverse_transform(trainPredict1)\n",
        "trainY_inverse = scaler.inverse_transform([trainY])\n",
        "testPredict = scaler.inverse_transform(testPredict1)\n",
        "testY_inverse = scaler.inverse_transform([testY])\n",
        "\n",
        "\n",
        "# calculate root mean squared error\n",
        "trainScore = math.sqrt(mean_squared_error(trainY_inverse[0], trainPredict[:,0]))\n",
        "print('Train Score: %.2f RMSE' % (trainScore))\n",
        "\n",
        "testScore = math.sqrt(mean_squared_error(testY_inverse[0], testPredict[:,0]))\n",
        "print('Test Score: %.2f RMSE' % (testScore))\n",
        "\n",
        "\n",
        "#Neural network - from the current code\n",
        "#mse_neural, mae_neural = model.evaluate(X_test_scaled, y_test)\n",
        "mse_neural, mae_neural = model.evaluate(trainX,trainY)\n",
        "print('Mean squared error from neural net for train: ', mse_neural)\n",
        "print('Mean absolute error from neural net for train: ', mae_neural)\n",
        "\n",
        "mse_neural, mae_neural = model.evaluate(testX,testY)\n",
        "print('Mean squared error from neural net for test: ', mse_neural)\n",
        "print('Mean absolute error from neural net for test: ', mae_neural)\n",
        "\n",
        "print('R^2 Value from train: ', sklearn.metrics.r2_score(trainY_inverse[0], trainPredict[:,0]))\n",
        "print('R^2 Value from test: ', sklearn.metrics.r2_score(testY_inverse[0], testPredict[:,0]))\n",
        "\n",
        "###########\n",
        "\n"
      ],
      "metadata": {
        "colab": {
          "base_uri": "https://localhost:8080/"
        },
        "id": "f3pxtQTDtvkC",
        "outputId": "8f2bda6b-421a-40fa-e490-a209541b2852"
      },
      "execution_count": 27,
      "outputs": [
        {
          "output_type": "stream",
          "name": "stdout",
          "text": [
            "Train Score: 139.07 RMSE\n",
            "Test Score: 118.85 RMSE\n",
            "15/15 [==============================] - 0s 16ms/step - loss: 6.5018e-04 - acc: 0.0000e+00\n",
            "Mean squared error from neural net for train:  0.0006501779425889254\n",
            "Mean absolute error from neural net for train:  0.0\n",
            "8/8 [==============================] - 0s 1ms/step - loss: 4.7483e-04 - acc: 0.0000e+00\n",
            "Mean squared error from neural net for test:  0.00047483021626248956\n",
            "Mean absolute error from neural net for test:  0.0\n",
            "R^2 Value from train:  0.9768360087901147\n",
            "R^2 Value from test:  0.984618121907175\n"
          ]
        }
      ]
    },
    {
      "cell_type": "code",
      "source": [
        "from sklearn import linear_model\n",
        "from sklearn.tree import DecisionTreeRegressor\n",
        "from sklearn.metrics import mean_squared_error, mean_absolute_error\n",
        "\n",
        "### Linear regression\n",
        "lr_model = linear_model.LinearRegression()\n",
        "lr_model.fit(trainX,trainY)\n",
        "y_pred_lr = lr_model.predict(testX)\n",
        "mse_lr = mean_squared_error(testY, y_pred_lr)\n",
        "mae_lr = mean_absolute_error(testY, y_pred_lr)\n",
        "RMSE_lr = math.sqrt(mean_squared_error(testY, y_pred_lr))\n",
        "\n",
        "print('test Score: %.2f RMSE' % (RMSE_lr))\n",
        "\n",
        "print('Mean squared error from linear regression for test: ', mse_lr)\n",
        "print('Mean absolute error from linear regression for test: ', mae_lr)\n",
        "\n",
        "print('R^2 Value from test: ', sklearn.metrics.r2_score(testY, y_pred_lr))\n",
        "\n",
        "lr_model.fit(trainX,trainY)\n",
        "yt_pred_lr = lr_model.predict(trainX)\n",
        "mse_lrt = mean_squared_error(trainY, yt_pred_lr)\n",
        "mae_lrt = mean_absolute_error(trainY, yt_pred_lr)\n",
        "RMSE_lrt = math.sqrt(mean_squared_error(trainY, yt_pred_lr))\n",
        "\n",
        "print('train Score: %.2f RMSE' % (RMSE_lrt))\n",
        "print('Mean squared error from linear regression for train: ', mse_lrt)\n",
        "print('Mean absolute error from linear regression for train: ', mae_lrt)\n",
        "print('R^2 Value from train: ', sklearn.metrics.r2_score(trainY, yt_pred_lr))\n"
      ],
      "metadata": {
        "colab": {
          "base_uri": "https://localhost:8080/"
        },
        "id": "foFKzLiWwA9T",
        "outputId": "551ecd20-6085-4cde-fabd-0588f48adf4b"
      },
      "execution_count": 28,
      "outputs": [
        {
          "output_type": "stream",
          "name": "stdout",
          "text": [
            "test Score: 0.02 RMSE\n",
            "Mean squared error from linear regression for test:  0.00047081147\n",
            "Mean absolute error from linear regression for test:  0.013740308\n",
            "R^2 Value from test:  0.9847483082042556\n",
            "train Score: 0.02 RMSE\n",
            "Mean squared error from linear regression for train:  0.0005663733\n",
            "Mean absolute error from linear regression for train:  0.01380639\n",
            "R^2 Value from train:  0.9798217333693152\n"
          ]
        }
      ]
    },
    {
      "cell_type": "code",
      "source": [
        "tree = DecisionTreeRegressor()\n",
        "tree.fit(trainX, trainY)\n",
        "y_pred_tree = tree.predict(testX)\n",
        "mse_dt = mean_squared_error(testY, y_pred_tree)\n",
        "mae_dt = mean_absolute_error(testY, y_pred_tree)\n",
        "RMSE_dt = math.sqrt(mean_squared_error(testY, y_pred_tree))\n",
        "\n",
        "print('R^2 Value from test using decision tree: ', sklearn.metrics.r2_score(testY,y_pred_tree ))\n",
        "print('test Score: %.2f RMSEusing decisin tree' % (RMSE_dt))\n",
        "print('Mean squared error using decision tree: ', mse_dt)\n",
        "print('Mean absolute error using decision tree: ', mae_dt)\n",
        "\n",
        "\n",
        "yt_pred_tree = tree.predict(trainX)\n",
        "mse_dtt = mean_squared_error(trainY, yt_pred_tree)\n",
        "mae_dtt = mean_absolute_error(trainY,yt_pred_tree)\n",
        "RMSE_dtt = math.sqrt(mean_squared_error(trainY, yt_pred_tree))\n",
        "\n",
        "print('train Score: %.2f RMSE' % (RMSE_dtt))\n",
        "print('Mean squared error from decision tree for train: ', mse_dtt)\n",
        "print('Mean absolute error from decision tree for train: ', mae_dtt)\n",
        "print('R^2 Value from train using decision tree: ', sklearn.metrics.r2_score(trainY,  yt_pred_tree))"
      ],
      "metadata": {
        "colab": {
          "base_uri": "https://localhost:8080/"
        },
        "id": "422fuS26wLI5",
        "outputId": "4bd98e1b-fc10-463f-f7bd-2dae4e042a89"
      },
      "execution_count": 29,
      "outputs": [
        {
          "output_type": "stream",
          "name": "stdout",
          "text": [
            "R^2 Value from test using decision tree:  0.9520401125782115\n",
            "test Score: 0.04 RMSEusing decisin tree\n",
            "Mean squared error using decision tree:  0.0014804958630020746\n",
            "Mean absolute error using decision tree:  0.022799447782126517\n",
            "train Score: 0.00 RMSE\n",
            "Mean squared error from decision tree for train:  0.0\n",
            "Mean absolute error from decision tree for train:  0.0\n",
            "R^2 Value from train using decision tree:  1.0\n"
          ]
        }
      ]
    },
    {
      "cell_type": "code",
      "source": [
        "#random forest \n",
        "from sklearn.ensemble import RandomForestRegressor\n",
        "model = RandomForestRegressor(n_estimators = 30, random_state=30)\n",
        "model.fit(trainX, trainY)\n",
        "\n",
        "y_pred_RF = model.predict(testX)\n",
        "\n",
        "mse_RF = mean_squared_error(testY, y_pred_RF)\n",
        "mae_RF = mean_absolute_error(testY, y_pred_RF)\n",
        "RMSE_RF = math.sqrt(mean_squared_error(testY, y_pred_RF))\n",
        "\n",
        "print('R^2 Value from test using randomforest ', sklearn.metrics.r2_score(testY,y_pred_RF))\n",
        "print('test Score: %.2f RMSE' % (RMSE_RF))\n",
        "print('Mean squared error using Random Forest: ', mse_RF)\n",
        "print('Mean absolute error Using Random Forest: ', mae_RF)\n",
        "\n",
        "yt_pred_RF = model.predict(trainX)\n",
        "mse_RFt = mean_squared_error(trainY, yt_pred_RF)\n",
        "mae_RFt = mean_absolute_error(trainY,yt_pred_RF)\n",
        "RMSE_RFt = math.sqrt(mean_squared_error(trainY, yt_pred_RF))\n",
        "\n",
        "print('train Score: %.2f RMSE' % (RMSE_RFt))\n",
        "print('Mean squared error from random forest for train: ', mse_RFt)\n",
        "print('Mean absolute error from random forest for train: ', mae_RFt)\n",
        "print('R^2 Value from train for random forest: ', sklearn.metrics.r2_score(trainY,  yt_pred_RF))"
      ],
      "metadata": {
        "colab": {
          "base_uri": "https://localhost:8080/"
        },
        "id": "7J1-flHHwULh",
        "outputId": "a98006a3-126d-4cf3-d57a-6fefb2a348a4"
      },
      "execution_count": 30,
      "outputs": [
        {
          "output_type": "stream",
          "name": "stdout",
          "text": [
            "R^2 Value from test using randomforest  0.9718842389178356\n",
            "test Score: 0.03 RMSE\n",
            "Mean squared error using Random Forest:  0.0008679183835696093\n",
            "Mean absolute error Using Random Forest:  0.018615095152465597\n",
            "train Score: 0.01 RMSE\n",
            "Mean squared error from random forest for train:  0.0001682195146335952\n",
            "Mean absolute error from random forest for train:  0.00724316812120378\n",
            "R^2 Value from train for random forest:  0.9940068170343284\n"
          ]
        }
      ]
    }
  ]
}